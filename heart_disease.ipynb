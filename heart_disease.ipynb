{
  "nbformat": 4,
  "nbformat_minor": 0,
  "metadata": {
    "colab": {
      "name": "Heart_Disease.ipynb",
      "provenance": [],
      "collapsed_sections": []
    },
    "kernelspec": {
      "name": "python3",
      "display_name": "Python 3"
    },
    "language_info": {
      "name": "python"
    }
  },
  "cells": [
    {
      "cell_type": "markdown",
      "metadata": {
        "id": "SJlkszmKGOtR"
      },
      "source": [
        "**Predicting Heart Disease**"
      ]
    },
    {
      "cell_type": "markdown",
      "metadata": {
        "id": "39E6Q_eKG5RO"
      },
      "source": [
        "Import Dependencies"
      ]
    },
    {
      "cell_type": "code",
      "metadata": {
        "id": "P47q7QMAF-GG"
      },
      "source": [
        "import io\n",
        "from google.colab import files\n",
        "import pandas as pd\n",
        "from sklearn.model_selection import train_test_split\n",
        "from sklearn.linear_model import LogisticRegression\n",
        "from sklearn.metrics import accuracy_score\n",
        "from sklearn.metrics import confusion_matrix \n",
        "from sklearn.metrics import classification_report\n",
        "from sklearn.preprocessing import StandardScaler\n"
      ],
      "execution_count": 1,
      "outputs": []
    },
    {
      "cell_type": "markdown",
      "metadata": {
        "id": "gz57F9vLGlVS"
      },
      "source": [
        "Import Data"
      ]
    },
    {
      "cell_type": "code",
      "metadata": {
        "id": "LDcHPrv7BtDW",
        "colab": {
          "base_uri": "https://localhost:8080/"
        },
        "outputId": "711d2f7b-52bc-4041-a08c-7d433f9b0779"
      },
      "source": [
        "import os\n",
        "spark_version = 'spark-3.1.1'\n",
        "os.environ['SPARK_VERSION']=spark_version\n",
        "\n",
        "# Install Spark and Java\n",
        "!apt-get update\n",
        "!apt-get install openjdk-11-jdk-headless -qq > /dev/null\n",
        "!wget -q http://www-us.apache.org/dist/spark/$SPARK_VERSION/$SPARK_VERSION-bin-hadoop2.7.tgz\n",
        "!tar xf $SPARK_VERSION-bin-hadoop2.7.tgz\n",
        "!pip install -q findspark\n",
        "\n",
        "# Set Environment Variables\n",
        "import os\n",
        "os.environ[\"JAVA_HOME\"] = \"/usr/lib/jvm/java-11-openjdk-amd64\"\n",
        "os.environ[\"SPARK_HOME\"] = f\"/content/{spark_version}-bin-hadoop2.7\"\n",
        "\n",
        "# Start a SparkSession\n",
        "import findspark\n",
        "findspark.init()"
      ],
      "execution_count": 2,
      "outputs": [
        {
          "output_type": "stream",
          "text": [
            "\r0% [Working]\r            \rGet:1 https://cloud.r-project.org/bin/linux/ubuntu bionic-cran40/ InRelease [3,626 B]\n",
            "\r0% [Connecting to archive.ubuntu.com] [Connecting to security.ubuntu.com (91.18\r0% [Connecting to archive.ubuntu.com] [Connecting to security.ubuntu.com (91.18\r                                                                               \rIgn:2 https://developer.download.nvidia.com/compute/cuda/repos/ubuntu1804/x86_64  InRelease\n",
            "\r0% [Connecting to archive.ubuntu.com] [Connecting to security.ubuntu.com (91.18\r0% [1 InRelease gpgv 3,626 B] [Connecting to archive.ubuntu.com] [Connecting to\r                                                                               \rIgn:3 https://developer.download.nvidia.com/compute/machine-learning/repos/ubuntu1804/x86_64  InRelease\n",
            "\r0% [1 InRelease gpgv 3,626 B] [Connecting to archive.ubuntu.com] [Connecting to\r                                                                               \rGet:4 https://developer.download.nvidia.com/compute/cuda/repos/ubuntu1804/x86_64  Release [697 B]\n",
            "\r0% [1 InRelease gpgv 3,626 B] [Connecting to archive.ubuntu.com] [Connecting to\r0% [1 InRelease gpgv 3,626 B] [Connecting to archive.ubuntu.com] [Connecting to\r                                                                               \rHit:5 https://developer.download.nvidia.com/compute/machine-learning/repos/ubuntu1804/x86_64  Release\n",
            "Get:6 https://developer.download.nvidia.com/compute/cuda/repos/ubuntu1804/x86_64  Release.gpg [836 B]\n",
            "Get:7 http://security.ubuntu.com/ubuntu bionic-security InRelease [88.7 kB]\n",
            "Get:8 http://ppa.launchpad.net/c2d4u.team/c2d4u4.0+/ubuntu bionic InRelease [15.9 kB]\n",
            "Get:9 https://cloud.r-project.org/bin/linux/ubuntu bionic-cran40/ Packages [53.9 kB]\n",
            "Hit:10 http://archive.ubuntu.com/ubuntu bionic InRelease\n",
            "Get:11 http://archive.ubuntu.com/ubuntu bionic-updates InRelease [88.7 kB]\n",
            "Hit:13 http://ppa.launchpad.net/cran/libgit2/ubuntu bionic InRelease\n",
            "Ign:14 https://developer.download.nvidia.com/compute/cuda/repos/ubuntu1804/x86_64  Packages\n",
            "Get:14 https://developer.download.nvidia.com/compute/cuda/repos/ubuntu1804/x86_64  Packages [770 kB]\n",
            "Get:15 http://archive.ubuntu.com/ubuntu bionic-backports InRelease [74.6 kB]\n",
            "Get:16 http://ppa.launchpad.net/deadsnakes/ppa/ubuntu bionic InRelease [15.9 kB]\n",
            "Get:17 http://ppa.launchpad.net/graphics-drivers/ppa/ubuntu bionic InRelease [21.3 kB]\n",
            "Get:18 http://security.ubuntu.com/ubuntu bionic-security/main amd64 Packages [2,119 kB]\n",
            "Get:19 http://ppa.launchpad.net/c2d4u.team/c2d4u4.0+/ubuntu bionic/main Sources [1,759 kB]\n",
            "Get:20 http://archive.ubuntu.com/ubuntu bionic-updates/restricted amd64 Packages [429 kB]\n",
            "Get:21 http://security.ubuntu.com/ubuntu bionic-security/multiverse amd64 Packages [24.7 kB]\n",
            "Get:22 http://security.ubuntu.com/ubuntu bionic-security/universe amd64 Packages [1,410 kB]\n",
            "Get:23 http://archive.ubuntu.com/ubuntu bionic-updates/universe amd64 Packages [2,182 kB]\n",
            "Get:24 http://security.ubuntu.com/ubuntu bionic-security/restricted amd64 Packages [399 kB]\n",
            "Get:25 http://archive.ubuntu.com/ubuntu bionic-updates/multiverse amd64 Packages [31.6 kB]\n",
            "Get:26 http://archive.ubuntu.com/ubuntu bionic-updates/main amd64 Packages [2,550 kB]\n",
            "Get:27 http://ppa.launchpad.net/c2d4u.team/c2d4u4.0+/ubuntu bionic/main amd64 Packages [900 kB]\n",
            "Get:28 http://ppa.launchpad.net/deadsnakes/ppa/ubuntu bionic/main amd64 Packages [40.8 kB]\n",
            "Get:29 http://ppa.launchpad.net/graphics-drivers/ppa/ubuntu bionic/main amd64 Packages [47.2 kB]\n",
            "Fetched 13.0 MB in 5s (2,616 kB/s)\n",
            "Reading package lists... Done\n"
          ],
          "name": "stdout"
        }
      ]
    },
    {
      "cell_type": "code",
      "metadata": {
        "id": "RZYold-oCa5T",
        "colab": {
          "base_uri": "https://localhost:8080/"
        },
        "outputId": "108f8b3c-5fe8-4296-893c-ab2d6ac7aca5"
      },
      "source": [
        "# Download the Postgres driver that will allow Spark to interact with Postgres.\n",
        "!wget https://jdbc.postgresql.org/download/postgresql-42.2.16.jar"
      ],
      "execution_count": 3,
      "outputs": [
        {
          "output_type": "stream",
          "text": [
            "--2021-05-06 22:14:31--  https://jdbc.postgresql.org/download/postgresql-42.2.16.jar\n",
            "Resolving jdbc.postgresql.org (jdbc.postgresql.org)... 72.32.157.228, 2001:4800:3e1:1::228\n",
            "Connecting to jdbc.postgresql.org (jdbc.postgresql.org)|72.32.157.228|:443... connected.\n",
            "HTTP request sent, awaiting response... 200 OK\n",
            "Length: 1002883 (979K) [application/java-archive]\n",
            "Saving to: ‘postgresql-42.2.16.jar’\n",
            "\n",
            "postgresql-42.2.16. 100%[===================>] 979.38K  6.03MB/s    in 0.2s    \n",
            "\n",
            "2021-05-06 22:14:32 (6.03 MB/s) - ‘postgresql-42.2.16.jar’ saved [1002883/1002883]\n",
            "\n"
          ],
          "name": "stdout"
        }
      ]
    },
    {
      "cell_type": "code",
      "metadata": {
        "id": "HM8XS5RXiGmi"
      },
      "source": [
        "# start Spark session\n",
        "from pyspark.sql import SparkSession\n",
        "spark = SparkSession.builder.appName(\"CloudETL\").config(\"spark.driver.extraClassPath\",\"/content/postgresql-42.2.16.jar\").getOrCreate()"
      ],
      "execution_count": 4,
      "outputs": []
    },
    {
      "cell_type": "markdown",
      "metadata": {
        "id": "9oo8nMCJw_vQ"
      },
      "source": [
        "Import Data from AWS S3"
      ]
    },
    {
      "cell_type": "code",
      "metadata": {
        "id": "6u1xMvPdhxI0"
      },
      "source": [
        "# Read in data from S3 Buckets\n",
        "url =\"https://group4-heart-study.s3.amazonaws.com/framingham.csv\"\n",
        "heart_disease_df = pd.read_csv(url)\n",
        "url2 =\"https://group4-heart-study.s3.amazonaws.com/heart_attack.csv\"\n",
        "heart_attack_df = pd.read_csv(url2)"
      ],
      "execution_count": 5,
      "outputs": []
    },
    {
      "cell_type": "code",
      "metadata": {
        "colab": {
          "base_uri": "https://localhost:8080/",
          "height": 204
        },
        "id": "6Jqn6J3elBU2",
        "outputId": "e8d1ad88-6ca7-4fce-be72-0cc2344c3959"
      },
      "source": [
        "# Show DataFrame\n",
        "heart_disease_df.head()"
      ],
      "execution_count": 6,
      "outputs": [
        {
          "output_type": "execute_result",
          "data": {
            "text/html": [
              "<div>\n",
              "<style scoped>\n",
              "    .dataframe tbody tr th:only-of-type {\n",
              "        vertical-align: middle;\n",
              "    }\n",
              "\n",
              "    .dataframe tbody tr th {\n",
              "        vertical-align: top;\n",
              "    }\n",
              "\n",
              "    .dataframe thead th {\n",
              "        text-align: right;\n",
              "    }\n",
              "</style>\n",
              "<table border=\"1\" class=\"dataframe\">\n",
              "  <thead>\n",
              "    <tr style=\"text-align: right;\">\n",
              "      <th></th>\n",
              "      <th>male</th>\n",
              "      <th>age</th>\n",
              "      <th>education</th>\n",
              "      <th>currentSmoker</th>\n",
              "      <th>cigsPerDay</th>\n",
              "      <th>BPMeds</th>\n",
              "      <th>prevalentStroke</th>\n",
              "      <th>prevalentHyp</th>\n",
              "      <th>diabetes</th>\n",
              "      <th>totChol</th>\n",
              "      <th>sysBP</th>\n",
              "      <th>diaBP</th>\n",
              "      <th>BMI</th>\n",
              "      <th>heartRate</th>\n",
              "      <th>glucose</th>\n",
              "      <th>TenYearCHD</th>\n",
              "    </tr>\n",
              "  </thead>\n",
              "  <tbody>\n",
              "    <tr>\n",
              "      <th>0</th>\n",
              "      <td>1</td>\n",
              "      <td>39</td>\n",
              "      <td>4.0</td>\n",
              "      <td>0</td>\n",
              "      <td>0.0</td>\n",
              "      <td>0.0</td>\n",
              "      <td>0</td>\n",
              "      <td>0</td>\n",
              "      <td>0</td>\n",
              "      <td>195.0</td>\n",
              "      <td>106.0</td>\n",
              "      <td>70.0</td>\n",
              "      <td>26.97</td>\n",
              "      <td>80.0</td>\n",
              "      <td>77.0</td>\n",
              "      <td>0</td>\n",
              "    </tr>\n",
              "    <tr>\n",
              "      <th>1</th>\n",
              "      <td>0</td>\n",
              "      <td>46</td>\n",
              "      <td>2.0</td>\n",
              "      <td>0</td>\n",
              "      <td>0.0</td>\n",
              "      <td>0.0</td>\n",
              "      <td>0</td>\n",
              "      <td>0</td>\n",
              "      <td>0</td>\n",
              "      <td>250.0</td>\n",
              "      <td>121.0</td>\n",
              "      <td>81.0</td>\n",
              "      <td>28.73</td>\n",
              "      <td>95.0</td>\n",
              "      <td>76.0</td>\n",
              "      <td>0</td>\n",
              "    </tr>\n",
              "    <tr>\n",
              "      <th>2</th>\n",
              "      <td>1</td>\n",
              "      <td>48</td>\n",
              "      <td>1.0</td>\n",
              "      <td>1</td>\n",
              "      <td>20.0</td>\n",
              "      <td>0.0</td>\n",
              "      <td>0</td>\n",
              "      <td>0</td>\n",
              "      <td>0</td>\n",
              "      <td>245.0</td>\n",
              "      <td>127.5</td>\n",
              "      <td>80.0</td>\n",
              "      <td>25.34</td>\n",
              "      <td>75.0</td>\n",
              "      <td>70.0</td>\n",
              "      <td>0</td>\n",
              "    </tr>\n",
              "    <tr>\n",
              "      <th>3</th>\n",
              "      <td>0</td>\n",
              "      <td>61</td>\n",
              "      <td>3.0</td>\n",
              "      <td>1</td>\n",
              "      <td>30.0</td>\n",
              "      <td>0.0</td>\n",
              "      <td>0</td>\n",
              "      <td>1</td>\n",
              "      <td>0</td>\n",
              "      <td>225.0</td>\n",
              "      <td>150.0</td>\n",
              "      <td>95.0</td>\n",
              "      <td>28.58</td>\n",
              "      <td>65.0</td>\n",
              "      <td>103.0</td>\n",
              "      <td>1</td>\n",
              "    </tr>\n",
              "    <tr>\n",
              "      <th>4</th>\n",
              "      <td>0</td>\n",
              "      <td>46</td>\n",
              "      <td>3.0</td>\n",
              "      <td>1</td>\n",
              "      <td>23.0</td>\n",
              "      <td>0.0</td>\n",
              "      <td>0</td>\n",
              "      <td>0</td>\n",
              "      <td>0</td>\n",
              "      <td>285.0</td>\n",
              "      <td>130.0</td>\n",
              "      <td>84.0</td>\n",
              "      <td>23.10</td>\n",
              "      <td>85.0</td>\n",
              "      <td>85.0</td>\n",
              "      <td>0</td>\n",
              "    </tr>\n",
              "  </tbody>\n",
              "</table>\n",
              "</div>"
            ],
            "text/plain": [
              "   male  age  education  currentSmoker  ...    BMI  heartRate  glucose  TenYearCHD\n",
              "0     1   39        4.0              0  ...  26.97       80.0     77.0           0\n",
              "1     0   46        2.0              0  ...  28.73       95.0     76.0           0\n",
              "2     1   48        1.0              1  ...  25.34       75.0     70.0           0\n",
              "3     0   61        3.0              1  ...  28.58       65.0    103.0           1\n",
              "4     0   46        3.0              1  ...  23.10       85.0     85.0           0\n",
              "\n",
              "[5 rows x 16 columns]"
            ]
          },
          "metadata": {
            "tags": []
          },
          "execution_count": 6
        }
      ]
    },
    {
      "cell_type": "code",
      "metadata": {
        "colab": {
          "base_uri": "https://localhost:8080/",
          "height": 204
        },
        "id": "egY4M6Azkfqa",
        "outputId": "6441a63f-8045-4357-a8cb-c8eea1847da6"
      },
      "source": [
        "# Show DataFrame\n",
        "heart_attack_df.head()"
      ],
      "execution_count": 7,
      "outputs": [
        {
          "output_type": "execute_result",
          "data": {
            "text/html": [
              "<div>\n",
              "<style scoped>\n",
              "    .dataframe tbody tr th:only-of-type {\n",
              "        vertical-align: middle;\n",
              "    }\n",
              "\n",
              "    .dataframe tbody tr th {\n",
              "        vertical-align: top;\n",
              "    }\n",
              "\n",
              "    .dataframe thead th {\n",
              "        text-align: right;\n",
              "    }\n",
              "</style>\n",
              "<table border=\"1\" class=\"dataframe\">\n",
              "  <thead>\n",
              "    <tr style=\"text-align: right;\">\n",
              "      <th></th>\n",
              "      <th>age</th>\n",
              "      <th>sex</th>\n",
              "      <th>cp</th>\n",
              "      <th>trtbps</th>\n",
              "      <th>chol</th>\n",
              "      <th>fbs</th>\n",
              "      <th>restecg</th>\n",
              "      <th>thalachh</th>\n",
              "      <th>exng</th>\n",
              "      <th>oldpeak</th>\n",
              "      <th>slp</th>\n",
              "      <th>caa</th>\n",
              "      <th>thall</th>\n",
              "      <th>output</th>\n",
              "    </tr>\n",
              "  </thead>\n",
              "  <tbody>\n",
              "    <tr>\n",
              "      <th>0</th>\n",
              "      <td>63</td>\n",
              "      <td>1</td>\n",
              "      <td>3</td>\n",
              "      <td>145</td>\n",
              "      <td>233</td>\n",
              "      <td>1</td>\n",
              "      <td>0</td>\n",
              "      <td>150</td>\n",
              "      <td>0</td>\n",
              "      <td>2.3</td>\n",
              "      <td>0</td>\n",
              "      <td>0</td>\n",
              "      <td>1</td>\n",
              "      <td>1</td>\n",
              "    </tr>\n",
              "    <tr>\n",
              "      <th>1</th>\n",
              "      <td>37</td>\n",
              "      <td>1</td>\n",
              "      <td>2</td>\n",
              "      <td>130</td>\n",
              "      <td>250</td>\n",
              "      <td>0</td>\n",
              "      <td>1</td>\n",
              "      <td>187</td>\n",
              "      <td>0</td>\n",
              "      <td>3.5</td>\n",
              "      <td>0</td>\n",
              "      <td>0</td>\n",
              "      <td>2</td>\n",
              "      <td>1</td>\n",
              "    </tr>\n",
              "    <tr>\n",
              "      <th>2</th>\n",
              "      <td>41</td>\n",
              "      <td>0</td>\n",
              "      <td>1</td>\n",
              "      <td>130</td>\n",
              "      <td>204</td>\n",
              "      <td>0</td>\n",
              "      <td>0</td>\n",
              "      <td>172</td>\n",
              "      <td>0</td>\n",
              "      <td>1.4</td>\n",
              "      <td>2</td>\n",
              "      <td>0</td>\n",
              "      <td>2</td>\n",
              "      <td>1</td>\n",
              "    </tr>\n",
              "    <tr>\n",
              "      <th>3</th>\n",
              "      <td>56</td>\n",
              "      <td>1</td>\n",
              "      <td>1</td>\n",
              "      <td>120</td>\n",
              "      <td>236</td>\n",
              "      <td>0</td>\n",
              "      <td>1</td>\n",
              "      <td>178</td>\n",
              "      <td>0</td>\n",
              "      <td>0.8</td>\n",
              "      <td>2</td>\n",
              "      <td>0</td>\n",
              "      <td>2</td>\n",
              "      <td>1</td>\n",
              "    </tr>\n",
              "    <tr>\n",
              "      <th>4</th>\n",
              "      <td>57</td>\n",
              "      <td>0</td>\n",
              "      <td>0</td>\n",
              "      <td>120</td>\n",
              "      <td>354</td>\n",
              "      <td>0</td>\n",
              "      <td>1</td>\n",
              "      <td>163</td>\n",
              "      <td>1</td>\n",
              "      <td>0.6</td>\n",
              "      <td>2</td>\n",
              "      <td>0</td>\n",
              "      <td>2</td>\n",
              "      <td>1</td>\n",
              "    </tr>\n",
              "  </tbody>\n",
              "</table>\n",
              "</div>"
            ],
            "text/plain": [
              "   age  sex  cp  trtbps  chol  fbs  ...  exng  oldpeak  slp  caa  thall  output\n",
              "0   63    1   3     145   233    1  ...     0      2.3    0    0      1       1\n",
              "1   37    1   2     130   250    0  ...     0      3.5    0    0      2       1\n",
              "2   41    0   1     130   204    0  ...     0      1.4    2    0      2       1\n",
              "3   56    1   1     120   236    0  ...     0      0.8    2    0      2       1\n",
              "4   57    0   0     120   354    0  ...     1      0.6    2    0      2       1\n",
              "\n",
              "[5 rows x 14 columns]"
            ]
          },
          "metadata": {
            "tags": []
          },
          "execution_count": 7
        }
      ]
    },
    {
      "cell_type": "markdown",
      "metadata": {
        "id": "z3VFv0ffkM4D"
      },
      "source": [
        "Cleaning the Data"
      ]
    },
    {
      "cell_type": "code",
      "metadata": {
        "id": "LVWKAK-OkO3_"
      },
      "source": [
        "# Drop the null columns where all values are null\n",
        "heart_disease_df = heart_disease_df.dropna(axis='columns', how='all')\n",
        "heart_attack_df = heart_attack_df.dropna(axis='columns', how='all')\n",
        "# Drop the null rows\n",
        "heart_disease_df = heart_disease_df.dropna()\n",
        "heart_attack_df = heart_attack_df.dropna()"
      ],
      "execution_count": 8,
      "outputs": []
    },
    {
      "cell_type": "code",
      "metadata": {
        "colab": {
          "base_uri": "https://localhost:8080/"
        },
        "id": "ZIKWCg-Zkzw-",
        "outputId": "5bed9e24-2b30-4ac9-d9a7-d31b40a88827"
      },
      "source": [
        "# checking data types\n",
        "heart_disease_df.info()"
      ],
      "execution_count": 9,
      "outputs": [
        {
          "output_type": "stream",
          "text": [
            "<class 'pandas.core.frame.DataFrame'>\n",
            "Int64Index: 3656 entries, 0 to 4237\n",
            "Data columns (total 16 columns):\n",
            " #   Column           Non-Null Count  Dtype  \n",
            "---  ------           --------------  -----  \n",
            " 0   male             3656 non-null   int64  \n",
            " 1   age              3656 non-null   int64  \n",
            " 2   education        3656 non-null   float64\n",
            " 3   currentSmoker    3656 non-null   int64  \n",
            " 4   cigsPerDay       3656 non-null   float64\n",
            " 5   BPMeds           3656 non-null   float64\n",
            " 6   prevalentStroke  3656 non-null   int64  \n",
            " 7   prevalentHyp     3656 non-null   int64  \n",
            " 8   diabetes         3656 non-null   int64  \n",
            " 9   totChol          3656 non-null   float64\n",
            " 10  sysBP            3656 non-null   float64\n",
            " 11  diaBP            3656 non-null   float64\n",
            " 12  BMI              3656 non-null   float64\n",
            " 13  heartRate        3656 non-null   float64\n",
            " 14  glucose          3656 non-null   float64\n",
            " 15  TenYearCHD       3656 non-null   int64  \n",
            "dtypes: float64(9), int64(7)\n",
            "memory usage: 485.6 KB\n"
          ],
          "name": "stdout"
        }
      ]
    },
    {
      "cell_type": "code",
      "metadata": {
        "colab": {
          "base_uri": "https://localhost:8080/"
        },
        "id": "0m0MsiPLlqJl",
        "outputId": "ad7b46f3-3914-4eb7-800e-e4a45df4560c"
      },
      "source": [
        "# changing all datatypes to int\n",
        "heart_disease_df['education'] = heart_disease_df['education'].astype('int')\n",
        "heart_disease_df['cigsPerDay'] = heart_disease_df['cigsPerDay'].astype('int')\n",
        "heart_disease_df['BPMeds'] = heart_disease_df['BPMeds'].astype('int')\n",
        "heart_disease_df['totChol'] = heart_disease_df['totChol'].astype('int')\n",
        "heart_disease_df['sysBP'] = heart_disease_df['sysBP'].astype('int')\n",
        "heart_disease_df['diaBP'] = heart_disease_df['diaBP'].astype('int')\n",
        "heart_disease_df['BMI'] = heart_disease_df['BMI'].astype('int')\n",
        "heart_disease_df['heartRate'] = heart_disease_df['heartRate'].astype('int')\n",
        "heart_disease_df['glucose'] = heart_disease_df['glucose'].astype('int')\n",
        "heart_disease_df.info()"
      ],
      "execution_count": 10,
      "outputs": [
        {
          "output_type": "stream",
          "text": [
            "<class 'pandas.core.frame.DataFrame'>\n",
            "Int64Index: 3656 entries, 0 to 4237\n",
            "Data columns (total 16 columns):\n",
            " #   Column           Non-Null Count  Dtype\n",
            "---  ------           --------------  -----\n",
            " 0   male             3656 non-null   int64\n",
            " 1   age              3656 non-null   int64\n",
            " 2   education        3656 non-null   int64\n",
            " 3   currentSmoker    3656 non-null   int64\n",
            " 4   cigsPerDay       3656 non-null   int64\n",
            " 5   BPMeds           3656 non-null   int64\n",
            " 6   prevalentStroke  3656 non-null   int64\n",
            " 7   prevalentHyp     3656 non-null   int64\n",
            " 8   diabetes         3656 non-null   int64\n",
            " 9   totChol          3656 non-null   int64\n",
            " 10  sysBP            3656 non-null   int64\n",
            " 11  diaBP            3656 non-null   int64\n",
            " 12  BMI              3656 non-null   int64\n",
            " 13  heartRate        3656 non-null   int64\n",
            " 14  glucose          3656 non-null   int64\n",
            " 15  TenYearCHD       3656 non-null   int64\n",
            "dtypes: int64(16)\n",
            "memory usage: 485.6 KB\n"
          ],
          "name": "stdout"
        }
      ]
    },
    {
      "cell_type": "code",
      "metadata": {
        "colab": {
          "base_uri": "https://localhost:8080/"
        },
        "id": "7OzEvZlmo_Ou",
        "outputId": "b2e10ddf-276b-4e29-fa34-e17b41eb17e0"
      },
      "source": [
        "# checking data types\n",
        "heart_attack_df.info()"
      ],
      "execution_count": 11,
      "outputs": [
        {
          "output_type": "stream",
          "text": [
            "<class 'pandas.core.frame.DataFrame'>\n",
            "Int64Index: 303 entries, 0 to 302\n",
            "Data columns (total 14 columns):\n",
            " #   Column    Non-Null Count  Dtype  \n",
            "---  ------    --------------  -----  \n",
            " 0   age       303 non-null    int64  \n",
            " 1   sex       303 non-null    int64  \n",
            " 2   cp        303 non-null    int64  \n",
            " 3   trtbps    303 non-null    int64  \n",
            " 4   chol      303 non-null    int64  \n",
            " 5   fbs       303 non-null    int64  \n",
            " 6   restecg   303 non-null    int64  \n",
            " 7   thalachh  303 non-null    int64  \n",
            " 8   exng      303 non-null    int64  \n",
            " 9   oldpeak   303 non-null    float64\n",
            " 10  slp       303 non-null    int64  \n",
            " 11  caa       303 non-null    int64  \n",
            " 12  thall     303 non-null    int64  \n",
            " 13  output    303 non-null    int64  \n",
            "dtypes: float64(1), int64(13)\n",
            "memory usage: 35.5 KB\n"
          ],
          "name": "stdout"
        }
      ]
    },
    {
      "cell_type": "code",
      "metadata": {
        "colab": {
          "base_uri": "https://localhost:8080/"
        },
        "id": "A6M_WpUWo_Sh",
        "outputId": "22ee9a45-63d5-4384-e592-77fe1a3bab0d"
      },
      "source": [
        "# changing all datatypes to int\n",
        "heart_attack_df['oldpeak'] = heart_attack_df['oldpeak'].astype('int')\n",
        "heart_attack_df.info()"
      ],
      "execution_count": 12,
      "outputs": [
        {
          "output_type": "stream",
          "text": [
            "<class 'pandas.core.frame.DataFrame'>\n",
            "Int64Index: 303 entries, 0 to 302\n",
            "Data columns (total 14 columns):\n",
            " #   Column    Non-Null Count  Dtype\n",
            "---  ------    --------------  -----\n",
            " 0   age       303 non-null    int64\n",
            " 1   sex       303 non-null    int64\n",
            " 2   cp        303 non-null    int64\n",
            " 3   trtbps    303 non-null    int64\n",
            " 4   chol      303 non-null    int64\n",
            " 5   fbs       303 non-null    int64\n",
            " 6   restecg   303 non-null    int64\n",
            " 7   thalachh  303 non-null    int64\n",
            " 8   exng      303 non-null    int64\n",
            " 9   oldpeak   303 non-null    int64\n",
            " 10  slp       303 non-null    int64\n",
            " 11  caa       303 non-null    int64\n",
            " 12  thall     303 non-null    int64\n",
            " 13  output    303 non-null    int64\n",
            "dtypes: int64(14)\n",
            "memory usage: 35.5 KB\n"
          ],
          "name": "stdout"
        }
      ]
    },
    {
      "cell_type": "markdown",
      "metadata": {
        "id": "hk-pTgE_uL3a"
      },
      "source": [
        "Export Clean Data to Database: Postgres & Amazon RDS "
      ]
    },
    {
      "cell_type": "code",
      "metadata": {
        "id": "bZTXzcS3uPRn"
      },
      "source": [
        "# Configure settings for RDS\n",
        "mode = \"append\"\n",
        "jdbc_url=\"jdbc:postgresql://heartstudy.coqvcapoz4j9.us-east-2.rds.amazonaws.com:5432/heartstudy\"\n",
        "config = {\"user\":\"postgres\", \n",
        "          \"password\": <password>, \n",
        "          \"driver\":\"org.postgresql.Driver\"}"
      ],
      "execution_count": 16,
      "outputs": []
    },
    {
      "cell_type": "code",
      "metadata": {
        "id": "v5udQJY2x9jT"
      },
      "source": [
        "# Convert to Spark DataFrame\n",
        "heart_disease_sparkdf = spark.createDataFrame(heart_disease_df)\n",
        "heart_attack_sparkdf = spark.createDataFrame(heart_attack_df)"
      ],
      "execution_count": 19,
      "outputs": []
    },
    {
      "cell_type": "code",
      "metadata": {
        "id": "KDtechosutKt"
      },
      "source": [
        "# Write heart_disease_df to table in RDS\n",
        "heart_disease_sparkdf.write.jdbc(url=jdbc_url, table='Heart_Disease', mode=mode, properties=config)"
      ],
      "execution_count": 21,
      "outputs": []
    },
    {
      "cell_type": "code",
      "metadata": {
        "id": "_Slk-cp-utNN"
      },
      "source": [
        "# Write heart_disease_df to table in RDS\n",
        "heart_attack_sparkdf.write.jdbc(url=jdbc_url, table='Heart_Attack', mode=mode, properties=config)"
      ],
      "execution_count": 22,
      "outputs": []
    },
    {
      "cell_type": "markdown",
      "metadata": {
        "id": "53AHGihLGsU-"
      },
      "source": [
        "Separate the Features (X) from the Target (y)"
      ]
    },
    {
      "cell_type": "code",
      "metadata": {
        "id": "70L7g_7SF-Z2"
      },
      "source": [
        "# Target (y) feature is 10 year risk of coronary heart disease CHD (TenYearCHD)\n",
        "#1 =\"yes\", we will interpret as will get or has CHD 0=\"no\", we will interpret as does not have or likely to avoid CHD\n",
        "\n",
        "#Expected Features:\n",
        "#sex\n",
        "#gender\n",
        "#age\n",
        "#education\n",
        "#smoking (yes/no)\n",
        "#cigs per day\n",
        "#Blood Presure Meds\n",
        "#Prevalent Stroke: whether or not the patient had previously had a stroke (yes/no)\n",
        "#Prevalent Hyp: whether or not the patient was hypertensive  (yes/no)\n",
        "#Diabetes: whether or not the patient had diabetes \n",
        "#Tot Chol: total cholesterol level \n",
        "#Sys BP: systolic blood pressure \n",
        "#Dia BP: diastolic blood pressure\n",
        "#BMI: Body Mass Index \n",
        "#Heart Rate: heart rate (Continuous - In medical research,  continuous because of large number of possible values.)\n",
        "#glucose: glucose level (Continuous)"
      ],
      "execution_count": 23,
      "outputs": []
    },
    {
      "cell_type": "code",
      "metadata": {
        "colab": {
          "base_uri": "https://localhost:8080/"
        },
        "id": "hElqsZsCpO_r",
        "outputId": "93a7e258-bc76-4d9f-ca15-9c340cc4c3c7"
      },
      "source": [
        "#scale split data\n",
        "data_scaler = StandardScaler()\n",
        "data_scaler.fit_transform(heart_disease_df)"
      ],
      "execution_count": 24,
      "outputs": [
        {
          "output_type": "execute_result",
          "data": {
            "text/plain": [
              "array([[ 1.11982472, -1.23335117,  1.97575158, ...,  0.35633992,\n",
              "        -0.20312694, -0.42395212],\n",
              "       [-0.8929969 , -0.41559058,  0.01979497, ...,  1.60828949,\n",
              "        -0.24495595, -0.42395212],\n",
              "       [ 1.11982472, -0.1819447 , -0.95818334, ..., -0.06097661,\n",
              "        -0.49592996, -0.42395212],\n",
              "       ...,\n",
              "       [ 1.11982472,  0.05170118, -0.95818334, ..., -0.81214636,\n",
              "         0.17333408,  2.35875694],\n",
              "       [ 1.11982472,  0.16852412,  0.99777327, ..., -0.89560966,\n",
              "        -0.57958797, -0.42395212],\n",
              "       [-0.8929969 ,  0.28534706,  0.01979497, ...,  0.35633992,\n",
              "         1.05174313, -0.42395212]])"
            ]
          },
          "metadata": {
            "tags": []
          },
          "execution_count": 24
        }
      ]
    },
    {
      "cell_type": "code",
      "metadata": {
        "id": "guAoi1xNF-eD"
      },
      "source": [
        "y = heart_disease_df[\"TenYearCHD\"]\n",
        "X = heart_disease_df.drop(columns=\"TenYearCHD\")"
      ],
      "execution_count": 25,
      "outputs": []
    },
    {
      "cell_type": "markdown",
      "metadata": {
        "id": "QcmPJmjWGzrn"
      },
      "source": [
        "Split our data into training and testing"
      ]
    },
    {
      "cell_type": "code",
      "metadata": {
        "id": "GjonXNlGF-lS",
        "colab": {
          "base_uri": "https://localhost:8080/"
        },
        "outputId": "b9d3a843-11ab-4875-a0ff-08e5f18ac703"
      },
      "source": [
        "X_train, X_test, y_train, y_test = train_test_split(X, \n",
        "                                                    y, \n",
        "                                                    random_state=42, \n",
        "                                                    stratify=y)\n",
        "X_train.shape"
      ],
      "execution_count": 26,
      "outputs": [
        {
          "output_type": "execute_result",
          "data": {
            "text/plain": [
              "(2742, 15)"
            ]
          },
          "metadata": {
            "tags": []
          },
          "execution_count": 26
        }
      ]
    },
    {
      "cell_type": "markdown",
      "metadata": {
        "id": "dM5FdnTeHrOm"
      },
      "source": [
        "Create a Logistic Regression Model"
      ]
    },
    {
      "cell_type": "code",
      "metadata": {
        "id": "Cia_G7lUF-rN"
      },
      "source": [
        "classifier = LogisticRegression(solver='lbfgs',\n",
        "                                max_iter=10000,\n",
        "                                random_state=42)"
      ],
      "execution_count": 27,
      "outputs": []
    },
    {
      "cell_type": "markdown",
      "metadata": {
        "id": "RuHik2isIMCz"
      },
      "source": [
        "Fit (train) or model using the training data"
      ]
    },
    {
      "cell_type": "code",
      "metadata": {
        "id": "6Q-yOJzYF_Sg",
        "colab": {
          "base_uri": "https://localhost:8080/"
        },
        "outputId": "f71edd4d-0670-4f0b-e375-0fb8f8b0567b"
      },
      "source": [
        "classifier.fit(X_train, y_train)"
      ],
      "execution_count": 28,
      "outputs": [
        {
          "output_type": "execute_result",
          "data": {
            "text/plain": [
              "LogisticRegression(C=1.0, class_weight=None, dual=False, fit_intercept=True,\n",
              "                   intercept_scaling=1, l1_ratio=None, max_iter=10000,\n",
              "                   multi_class='auto', n_jobs=None, penalty='l2',\n",
              "                   random_state=42, solver='lbfgs', tol=0.0001, verbose=0,\n",
              "                   warm_start=False)"
            ]
          },
          "metadata": {
            "tags": []
          },
          "execution_count": 28
        }
      ]
    },
    {
      "cell_type": "markdown",
      "metadata": {
        "id": "KwFpIQ3xIM1u"
      },
      "source": [
        "Make predictions"
      ]
    },
    {
      "cell_type": "code",
      "metadata": {
        "id": "63e6YY9JF_Yj",
        "colab": {
          "base_uri": "https://localhost:8080/",
          "height": 204
        },
        "outputId": "2dc62065-fe11-4c39-ca8e-daa54d579f48"
      },
      "source": [
        "#Model wants to predict ability based on set of factors whether or not individual will/has high risk of CHD\n",
        "y_pred = classifier.predict(X_test)\n",
        "results = pd.DataFrame({\"Prediction\": y_pred, \"Actual\": y_test}).reset_index(drop=True)\n",
        "results.head(5)"
      ],
      "execution_count": 29,
      "outputs": [
        {
          "output_type": "execute_result",
          "data": {
            "text/html": [
              "<div>\n",
              "<style scoped>\n",
              "    .dataframe tbody tr th:only-of-type {\n",
              "        vertical-align: middle;\n",
              "    }\n",
              "\n",
              "    .dataframe tbody tr th {\n",
              "        vertical-align: top;\n",
              "    }\n",
              "\n",
              "    .dataframe thead th {\n",
              "        text-align: right;\n",
              "    }\n",
              "</style>\n",
              "<table border=\"1\" class=\"dataframe\">\n",
              "  <thead>\n",
              "    <tr style=\"text-align: right;\">\n",
              "      <th></th>\n",
              "      <th>Prediction</th>\n",
              "      <th>Actual</th>\n",
              "    </tr>\n",
              "  </thead>\n",
              "  <tbody>\n",
              "    <tr>\n",
              "      <th>0</th>\n",
              "      <td>0</td>\n",
              "      <td>0</td>\n",
              "    </tr>\n",
              "    <tr>\n",
              "      <th>1</th>\n",
              "      <td>0</td>\n",
              "      <td>0</td>\n",
              "    </tr>\n",
              "    <tr>\n",
              "      <th>2</th>\n",
              "      <td>0</td>\n",
              "      <td>0</td>\n",
              "    </tr>\n",
              "    <tr>\n",
              "      <th>3</th>\n",
              "      <td>0</td>\n",
              "      <td>0</td>\n",
              "    </tr>\n",
              "    <tr>\n",
              "      <th>4</th>\n",
              "      <td>0</td>\n",
              "      <td>0</td>\n",
              "    </tr>\n",
              "  </tbody>\n",
              "</table>\n",
              "</div>"
            ],
            "text/plain": [
              "   Prediction  Actual\n",
              "0           0       0\n",
              "1           0       0\n",
              "2           0       0\n",
              "3           0       0\n",
              "4           0       0"
            ]
          },
          "metadata": {
            "tags": []
          },
          "execution_count": 29
        }
      ]
    },
    {
      "cell_type": "code",
      "metadata": {
        "id": "eVrfIDMSIX9g",
        "colab": {
          "base_uri": "https://localhost:8080/"
        },
        "outputId": "0dac04be-5d67-4c94-dc8a-b2d88124ba14"
      },
      "source": [
        "#review of model accuracy for testing data\n",
        "print(accuracy_score(y_test, y_pred))"
      ],
      "execution_count": 30,
      "outputs": [
        {
          "output_type": "stream",
          "text": [
            "0.862144420131291\n"
          ],
          "name": "stdout"
        }
      ]
    },
    {
      "cell_type": "code",
      "metadata": {
        "colab": {
          "base_uri": "https://localhost:8080/"
        },
        "id": "jo-DjXg25jm3",
        "outputId": "aed6d936-13b8-4d26-e8ff-445c5bd658b6"
      },
      "source": [
        "#review of model accuracy for training data\n",
        "y_train_pred=classifier.predict(X_train)\n",
        "print(accuracy_score(y_train,y_train_pred))"
      ],
      "execution_count": 31,
      "outputs": [
        {
          "output_type": "stream",
          "text": [
            "0.8533916849015317\n"
          ],
          "name": "stdout"
        }
      ]
    },
    {
      "cell_type": "code",
      "metadata": {
        "id": "0w9HhjbOhreu",
        "colab": {
          "base_uri": "https://localhost:8080/"
        },
        "outputId": "c8fbe866-7a0a-412c-b953-25ffc5da8f8a"
      },
      "source": [
        "#review of confusion matrix\n",
        "matrix = confusion_matrix(y_test, y_pred)\n",
        "print(matrix)"
      ],
      "execution_count": 32,
      "outputs": [
        {
          "output_type": "stream",
          "text": [
            "[[770   5]\n",
            " [121  18]]\n"
          ],
          "name": "stdout"
        }
      ]
    },
    {
      "cell_type": "code",
      "metadata": {
        "colab": {
          "base_uri": "https://localhost:8080/"
        },
        "id": "ayoynoUxvSAQ",
        "outputId": "a5a5a4af-afaf-4bf7-d043-d4284d12ed50"
      },
      "source": [
        "#sensitivity and precision\n",
        "report = classification_report(y_test, y_pred)\n",
        "print(report)"
      ],
      "execution_count": 33,
      "outputs": [
        {
          "output_type": "stream",
          "text": [
            "              precision    recall  f1-score   support\n",
            "\n",
            "           0       0.86      0.99      0.92       775\n",
            "           1       0.78      0.13      0.22       139\n",
            "\n",
            "    accuracy                           0.86       914\n",
            "   macro avg       0.82      0.56      0.57       914\n",
            "weighted avg       0.85      0.86      0.82       914\n",
            "\n"
          ],
          "name": "stdout"
        }
      ]
    },
    {
      "cell_type": "markdown",
      "metadata": {
        "id": "5HvBpQPx8kyc"
      },
      "source": [
        "Expected predictions- We want to be able to predict with a high degree of accuracy (+75%) wether or not someone will get coronary heart disease"
      ]
    }
  ]
}